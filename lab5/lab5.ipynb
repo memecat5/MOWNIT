{
 "cells": [
  {
   "cell_type": "markdown",
   "metadata": {},
   "source": [
    "### Zadanie 1"
   ]
  },
  {
   "cell_type": "code",
   "execution_count": 36,
   "metadata": {},
   "outputs": [],
   "source": [
    "import numpy as np\n",
    "import matplotlib.pyplot as plt\n",
    "\n",
    "years = np.array([i for i in range(1900, 1981, 10)],\n",
    "                 # Apparently overflows without it\n",
    "                  dtype=np.double)\n",
    "\n",
    "population = np.array([\n",
    "    76212168,\n",
    "    92228496,\n",
    "    106021537,\n",
    "    123202624,\n",
    "    132164569,\n",
    "    151325798,\n",
    "    179323175,\n",
    "    203302031,\n",
    "    226542199])"
   ]
  },
  {
   "cell_type": "code",
   "execution_count": 37,
   "metadata": {},
   "outputs": [],
   "source": [
    "# n - stopień wielomianu\n",
    "# m - ilość wyliczonych punktów = 9\n",
    "\n",
    "C = np.array([None for _ in range(7)])\n",
    "\n",
    "for i in range(0, 7):\n",
    "    A = np.vander(years, i + 1, increasing=True)\n",
    "    AT = np.transpose(A)\n",
    "    C[i] = np.linalg.solve(np.matmul(AT, A), np.dot(AT, population))"
   ]
  },
  {
   "cell_type": "markdown",
   "metadata": {},
   "source": [
    "### Ekstrapolacja"
   ]
  },
  {
   "cell_type": "code",
   "execution_count": 39,
   "metadata": {},
   "outputs": [
    {
     "name": "stdout",
     "output_type": "stream",
     "text": [
      "Stopień wielomianu: 0, wartość ekstrapolowana: 143369177, błąd względny ekstrapolacji: 0.424\n",
      "Stopień wielomianu: 1, wartość ekstrapolowana: 235808109, błąd względny ekstrapolacji: 0.052\n",
      "Stopień wielomianu: 2, wartość ekstrapolowana: 254712945, błąd względny ekstrapolacji: 0.024\n",
      "Stopień wielomianu: 3, wartość ekstrapolowana: 261439111, błąd względny ekstrapolacji: 0.051\n",
      "Stopień wielomianu: 4, wartość ekstrapolowana: 251719345, błąd względny ekstrapolacji: 0.012\n",
      "Stopień wielomianu: 5, wartość ekstrapolowana: 263442928, błąd względny ekstrapolacji: 0.059\n",
      "Stopień wielomianu: 6, wartość ekstrapolowana: 265700975, błąd względny ekstrapolacji: 0.068\n",
      "Najmniejszy błąd względny występuje przy interpolacji wielomianami stopnia 4\n"
     ]
    }
   ],
   "source": [
    "reference_value = 248709873\n",
    "year_for_extrapolation = 1990\n",
    "\n",
    "extrapolate = np.array([None for _ in range(len(C))], dtype=np.double)\n",
    "rel_error = np.array([None for _ in range(len(C))], dtype=np.double)\n",
    "\n",
    "\n",
    "for i in range(len(C)):\n",
    "    extrapolate[i] = np.polyval(C[i][::-1], year_for_extrapolation)\n",
    "    rel_error[i] = abs(reference_value - extrapolate[i]) / reference_value\n",
    "    print(f\"Stopień wielomianu: {i}, wartość ekstrapolowana: {round(extrapolate[i])}, błąd względny ekstrapolacji: {round(rel_error[i], 3)}\")\n",
    "\n",
    "\n",
    "print(f\"Najmniejszy błąd względny występuje przy interpolacji wielomianami stopnia {np.argmin(rel_error)}\")"
   ]
  },
  {
   "cell_type": "markdown",
   "metadata": {},
   "source": [
    "### Obliczanie kryterium informacyjnego Akaikego"
   ]
  },
  {
   "cell_type": "code",
   "execution_count": null,
   "metadata": {},
   "outputs": [],
   "source": []
  }
 ],
 "metadata": {
  "kernelspec": {
   "display_name": "Python 3",
   "language": "python",
   "name": "python3"
  },
  "language_info": {
   "codemirror_mode": {
    "name": "ipython",
    "version": 3
   },
   "file_extension": ".py",
   "mimetype": "text/x-python",
   "name": "python",
   "nbconvert_exporter": "python",
   "pygments_lexer": "ipython3",
   "version": "3.12.0"
  }
 },
 "nbformat": 4,
 "nbformat_minor": 2
}
