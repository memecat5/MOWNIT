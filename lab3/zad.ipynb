{
 "cells": [
  {
   "cell_type": "code",
   "execution_count": 18,
   "metadata": {},
   "outputs": [
    {
     "name": "stdout",
     "output_type": "stream",
     "text": [
      "Współczynnik uwarunkowania dla phi_1: 7.965848725132277e+36\n",
      "Współczynnik uwarunkowania dla phi_2: 5865679823403680.0\n",
      "Współczynnik uwarunkowania dla phi_3: 9315536043860.412\n",
      "Współczynnik uwarunkowania dla phi_4: 1605.443700478673\n"
     ]
    }
   ],
   "source": [
    "import numpy as np\n",
    "\n",
    "vand_mat = [None for _ in range(4)]\n",
    "\n",
    "def phi(t, j, n) -> float:\n",
    "    match n:\n",
    "        case 1: return (float) (t**(j-1))\n",
    "        case 2: return (float) ((t-1900)**(j-1))\n",
    "        case 3: return (float) ((t-1940)**(j-1))\n",
    "        case 4: return (float) (((t-1940)/40)**(j-1))\n",
    "\n",
    "for i in range(1, 5):\n",
    "    vand_mat[i-1] = np.array([[phi(t, j, i) for j in range(1, 10)] for t in range(1900, 1990, 10)])\n",
    "    print(f\"Współczynnik uwarunkowania dla phi_{i}: {np.linalg.cond(vand_mat[i-1])}\")\n",
    "\n"
   ]
  }
 ],
 "metadata": {
  "kernelspec": {
   "display_name": "Python 3",
   "language": "python",
   "name": "python3"
  },
  "language_info": {
   "codemirror_mode": {
    "name": "ipython",
    "version": 3
   },
   "file_extension": ".py",
   "mimetype": "text/x-python",
   "name": "python",
   "nbconvert_exporter": "python",
   "pygments_lexer": "ipython3",
   "version": "3.12.0"
  }
 },
 "nbformat": 4,
 "nbformat_minor": 2
}
